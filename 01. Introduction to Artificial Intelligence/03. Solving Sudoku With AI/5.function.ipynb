{
 "cells": [
  {
   "cell_type": "code",
   "execution_count": 3,
   "metadata": {
    "edited": true,
    "gradable": true,
    "grader_id": "xggjg7f5zgg",
    "udacity_user_query": ""
   },
   "outputs": [
    {
     "name": "stdout",
     "output_type": "stream",
     "text": [
      "4 1 7 |3 6 9 |8 2 5 \n",
      "6 3 2 |1 5 8 |9 4 7 \n",
      "9 5 8 |7 2 4 |3 1 6 \n",
      "------+------+------\n",
      "8 2 5 |4 3 7 |1 6 9 \n",
      "7 9 1 |5 8 6 |4 3 2 \n",
      "3 4 6 |9 1 2 |7 5 8 \n",
      "------+------+------\n",
      "2 8 9 |6 4 3 |5 7 1 \n",
      "5 7 3 |2 9 1 |6 8 4 \n",
      "1 6 4 |8 7 5 |2 9 3 \n"
     ]
    }
   ],
   "source": [
    "from utils import *\n",
    "\n",
    "def search(values):\n",
    "    '''\n",
    "    \"Using depth-first search and propagation, create a search tree and solve the sudoku.\"\n",
    "    '''\n",
    "    # First, reduce the puzzle using the previous function\n",
    "    values = reduce_puzzle(values)\n",
    "    if values is False:\n",
    "        return False ## Failed earlier\n",
    "    \n",
    "    if all(len(values[s]) == 1 for s in boxes):\n",
    "        return values ## Solved!\n",
    "\n",
    "    # Choose one of the unfilled squares with the fewest possibilities\n",
    "    n, s = min((len(values[s]), s) for s in boxes if len(values[s]) > 1)\n",
    "    \n",
    "    # Now use recurrence to solve each one of the resulting sudokus\n",
    "    for value in values[s]:\n",
    "        new_sudoku = values.copy()\n",
    "        new_sudoku[s] = value\n",
    "        attempt = search(new_sudoku)\n",
    "        if attempt:\n",
    "            return attempt\n",
    "\n",
    "        \n",
    "# Uncomment the code below to view your result.\n",
    "# Make sure to **comment** the code below before submitting your result\n",
    "grid = {'I6': '123456789', 'H9': '123456789', 'I2': '123456789', 'E8': '123456789', 'H3': '123456789', 'H7': '123456789', 'I7': '123456789', 'I4': '123456789', 'H5': '123456789', 'F9': '123456789', 'G7': '123456789', 'G6': '3', 'G5': '123456789', 'E1': '123456789', 'G3': '123456789', 'G2': '123456789', 'G1': '123456789', 'I1': '1', 'C8': '123456789', 'I3': '4', 'E5': '8', 'I5': '123456789', 'C9': '123456789', 'G9': '123456789', 'G8': '7', 'A1': '4', 'A3': '123456789', 'A2': '123456789', 'A5': '123456789', 'A4': '123456789', 'A7': '8', 'A6': '123456789', 'C3': '123456789', 'C2': '123456789', 'C1': '123456789', 'E6': '123456789', 'C7': '123456789', 'C6': '123456789', 'C5': '123456789', 'C4': '7', 'I9': '123456789', 'D8': '6', 'I8': '123456789', 'E4': '123456789', 'D9': '123456789', 'H8': '123456789', 'F6': '123456789', 'A9': '5', 'G4': '6', 'A8': '123456789', 'E7': '4', 'E3': '123456789', 'F1': '123456789', 'F2': '123456789', 'F3': '123456789', 'F4': '123456789', 'F5': '1', 'E2': '123456789', 'F7': '123456789', 'F8': '123456789', 'D2': '2', 'H1': '5', 'H6': '123456789', 'H2': '123456789', 'H4': '2', 'D3': '123456789', 'B4': '123456789', 'B5': '123456789', 'B6': '123456789', 'B7': '123456789', 'E9': '123456789', 'B1': '123456789', 'B2': '3', 'B3': '123456789', 'D6': '123456789', 'D7': '123456789', 'D4': '123456789', 'D5': '123456789', 'B8': '123456789', 'B9': '123456789', 'D1': '123456789'}\n",
    "display(search(grid))"
   ]
  },
  {
   "cell_type": "code",
   "execution_count": null,
   "metadata": {
    "grader_id": "0yp6to2c726"
   },
   "outputs": [],
   "source": []
  }
 ],
 "metadata": {
  "grader_mode": "",
  "kernelspec": {
   "display_name": "Python 3",
   "language": "python",
   "name": "python3"
  },
  "language_info": {
   "codemirror_mode": {
    "name": "ipython",
    "version": 3
   },
   "file_extension": ".py",
   "mimetype": "text/x-python",
   "name": "python",
   "nbconvert_exporter": "python",
   "pygments_lexer": "ipython3",
   "version": "3.6.3"
  },
  "showGradeBtn": true
 },
 "nbformat": 4,
 "nbformat_minor": 2
}
