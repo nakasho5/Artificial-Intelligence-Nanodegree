{
 "cells": [
  {
   "cell_type": "code",
   "execution_count": 1,
   "metadata": {
    "edited": true,
    "gradable": true,
    "grader_id": "bru08w61e7s",
    "udacity_user_query": ""
   },
   "outputs": [
    {
     "name": "stdout",
     "output_type": "stream",
     "text": [
      "  4     8     3   |  9     2     1   |  6     5     7   \n",
      "  9     6     7   |  3     4     5   |  8     2     1   \n",
      "  2     5     1   |  8     7     6   |  4     9     3   \n",
      "------------------+------------------+------------------\n",
      "  5    345    8   |  1    3456   2   |  9     7     6   \n",
      "  7     2     9   |  5   34569   4   |  1   13456   8   \n",
      "  1   13459   6   |  7    3459   8   |  2    1345   5   \n",
      "------------------+------------------+------------------\n",
      "  3     7     2   |  6     8     9   |  5     1     4   \n",
      "  8     1     4   |  2     5     3   |  7     6     9   \n",
      "  6     9     5   |  4     1     7   |  3     8     2   \n"
     ]
    }
   ],
   "source": [
    "from utils import *\n",
    "\n",
    "def only_choice(values):\n",
    "    \"\"\"Finalize all values that are the only choice for a unit.\n",
    "\n",
    "    Go through all the units, and whenever there is a unit with a value\n",
    "    that only fits in one box, assign the value to this box.\n",
    "\n",
    "    Input: Sudoku in dictionary form.\n",
    "    Output: Resulting Sudoku in dictionary form after filling in only choices.\n",
    "    \"\"\"\n",
    "    for unit in unitlist:\n",
    "        for digit in '123456789':\n",
    "            dplaces = [box for box in unit if digit in values[box]]\n",
    "            if len(dplaces) == 1:\n",
    "                values[dplaces[0]] = digit\n",
    "    return values\n",
    "\n",
    "# Uncommand and run the code below if you want to see the result\n",
    "# Make sure to **comment** the code below before submitting your code.\n",
    "\n",
    "values = {'B8': '278', 'H1': '8', 'C7': '4', 'B3': '47', 'D3': '8', 'G9': '47', 'G8': '1478', 'B9': '1', 'A3': '3', 'G7': '5', 'G6': '9', 'G5': '478', 'G4': '6', 'G3': '2', 'G2': '1347', 'G1': '134', 'B5': '47', 'I1': '46', 'I3': '5', 'I2': '4679', 'I5': '1', 'I4': '4', 'I7': '3', 'I6': '47', 'A1': '45', 'C9': '2357', 'C8': '23579', 'A5': '2', 'E8': '13456', 'A7': '6', 'A6': '147', 'E5': '34569', 'C2': '257', 'C1': '25', 'E6': '4', 'E1': '7', 'A2': '4578', 'C5': '79', 'A4': '49', 'I9': '2467', 'B2': '24678', 'I8': '24678', 'H2': '1467', 'D9': '34567', 'F2': '13459', 'D5': '3456', 'C3': '1', 'A9': '57', 'C6': '6', 'E4': '459', 'B1': '9', 'E7': '1', 'F1': '1345', 'H8': '1467', 'H9': '9', 'F4': '7', 'F5': '3459', 'F6': '8', 'F7': '2', 'F8': '1345', 'H3': '47', 'F3': '6', 'H6': '3', 'H7': '17', 'H4': '2', 'H5': '457', 'B4': '3', 'A8': '5789', 'B6': '5', 'B7': '78', 'E9': '8', 'E3': '49', 'D8': '34567', 'F9': '345', 'D6': '2', 'D7': '9', 'D4': '1', 'C4': '8', 'D2': '345', 'E2': '123459', 'D1': '345'}\n",
    "for _ in range(81):\n",
    "    old_values = values.copy()\n",
    "    values = only_choice(values)\n",
    "    if values == old_values:\n",
    "        break\n",
    "\n",
    "display(only_choice(values))"
   ]
  },
  {
   "cell_type": "code",
   "execution_count": null,
   "metadata": {},
   "outputs": [],
   "source": []
  }
 ],
 "metadata": {
  "grader_mode": "",
  "kernelspec": {
   "display_name": "Python 3",
   "language": "python",
   "name": "python3"
  },
  "language_info": {
   "codemirror_mode": {
    "name": "ipython",
    "version": 3
   },
   "file_extension": ".py",
   "mimetype": "text/x-python",
   "name": "python",
   "nbconvert_exporter": "python",
   "pygments_lexer": "ipython3",
   "version": "3.6.3"
  },
  "showGradeBtn": true
 },
 "nbformat": 4,
 "nbformat_minor": 2
}
