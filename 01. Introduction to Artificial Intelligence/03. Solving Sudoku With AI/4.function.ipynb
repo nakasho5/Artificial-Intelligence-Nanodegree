{
 "cells": [
  {
   "cell_type": "code",
   "execution_count": 1,
   "metadata": {
    "edited": true,
    "gradable": true,
    "grader_id": "n4u43rw856",
    "udacity_user_query": ""
   },
   "outputs": [
    {
     "name": "stdout",
     "output_type": "stream",
     "text": [
      "4 8 3 |9 2 1 |6 5 7 \n",
      "9 6 7 |3 4 5 |8 2 1 \n",
      "2 5 1 |8 7 6 |4 9 3 \n",
      "------+------+------\n",
      "5 4 8 |1 3 2 |9 7 6 \n",
      "7 2 9 |5 6 4 |1 3 8 \n",
      "1 3 6 |7 9 8 |2 4 5 \n",
      "------+------+------\n",
      "3 7 2 |6 8 9 |5 1 4 \n",
      "8 1 4 |2 5 3 |7 6 9 \n",
      "6 9 5 |4 1 7 |3 8 2 \n"
     ]
    }
   ],
   "source": [
    "from utils import *\n",
    "\n",
    "def reduce_puzzle(values):\n",
    "    stalled = False\n",
    "    while not stalled:\n",
    "        # Check how many boxes have a determined value\n",
    "        solved_values_before = len([box for box in values.keys() if len(values[box]) == 1])\n",
    "\n",
    "        # Use the Eliminate Strategy\n",
    "        values = eliminate(values)\n",
    "        \n",
    "        # Use the Only Choice Strategy\n",
    "        values = only_choice(values)\n",
    "\n",
    "        # Check how many boxes have a determined value, to compare\n",
    "        solved_values_after = len([box for box in values.keys() if len(values[box]) == 1])\n",
    "        \n",
    "        # If no new values were added, stop the loop.\n",
    "        stalled = solved_values_before == solved_values_after\n",
    "        \n",
    "        # Sanity check, return False if there is a box with zero available values:\n",
    "        if len([box for box in values.keys() if len(values[box]) == 0]):\n",
    "            return False\n",
    "    return values\n",
    "\n",
    "# Uncomment and run the code below to see the result\n",
    "# Make sure to comment the code below before submitting your code.\n",
    "grid = {'I6': '123456789', 'H9': '9', 'I2': '123456789', 'E8': '123456789', 'H3': '123456789', 'H7': '123456789', 'I7': '3', 'I4': '123456789', 'H5': '123456789', 'F9': '123456789', 'G7': '5', 'G6': '9', 'G5': '123456789', 'E1': '7', 'G3': '2', 'G2': '123456789', 'G1': '123456789', 'I1': '123456789', 'C8': '123456789', 'I3': '5', 'E5': '123456789', 'I5': '1', 'C9': '123456789', 'G9': '123456789', 'G8': '123456789', 'A1': '123456789', 'A3': '3', 'A2': '123456789', 'A5': '2', 'A4': '123456789', 'A7': '6', 'A6': '123456789', 'C3': '1', 'C2': '123456789', 'C1': '123456789', 'E6': '123456789', 'C7': '4', 'C6': '6', 'C5': '123456789', 'C4': '8', 'I9': '123456789', 'D8': '123456789', 'I8': '123456789', 'E4': '123456789', 'D9': '123456789', 'H8': '123456789', 'F6': '8', 'A9': '123456789', 'G4': '6', 'A8': '123456789', 'E7': '123456789', 'E3': '123456789', 'F1': '123456789', 'F2': '123456789', 'F3': '6', 'F4': '7', 'F5': '123456789', 'E2': '123456789', 'F7': '2', 'F8': '123456789', 'D2': '123456789', 'H1': '8', 'H6': '3', 'H2': '123456789', 'H4': '2', 'D3': '8', 'B4': '3', 'B5': '123456789', 'B6': '5', 'B7': '123456789', 'E9': '8', 'B1': '9', 'B2': '123456789', 'B3': '123456789', 'D6': '2', 'D7': '9', 'D4': '1', 'D5': '123456789', 'B8': '123456789', 'B9': '1', 'D1': '123456789'}\n",
    "display(reduce_puzzle(grid))"
   ]
  },
  {
   "cell_type": "code",
   "execution_count": null,
   "metadata": {},
   "outputs": [],
   "source": []
  }
 ],
 "metadata": {
  "grader_mode": "",
  "kernelspec": {
   "display_name": "Python 3",
   "language": "python",
   "name": "python3"
  },
  "language_info": {
   "codemirror_mode": {
    "name": "ipython",
    "version": 3
   },
   "file_extension": ".py",
   "mimetype": "text/x-python",
   "name": "python",
   "nbconvert_exporter": "python",
   "pygments_lexer": "ipython3",
   "version": "3.6.3"
  },
  "showGradeBtn": true
 },
 "nbformat": 4,
 "nbformat_minor": 2
}
