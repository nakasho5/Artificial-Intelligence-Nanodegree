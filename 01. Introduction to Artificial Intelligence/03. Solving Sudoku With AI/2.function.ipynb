{
 "cells": [
  {
   "cell_type": "code",
   "execution_count": 5,
   "metadata": {
    "edited": true,
    "gradable": true,
    "grader_id": "ngl1njvx9yo",
    "udacity_user_query": ""
   },
   "outputs": [
    {
     "name": "stdout",
     "output_type": "stream",
     "text": [
      "123456789 123456789     3     |123456789     2     123456789 |    6     123456789 123456789 \n",
      "    9     123456789 123456789 |    3     123456789     5     |123456789 123456789     1     \n",
      "123456789 123456789     1     |    8     123456789     6     |    4     123456789 123456789 \n",
      "------------------------------+------------------------------+------------------------------\n",
      "123456789 123456789     8     |    1     123456789     2     |    9     123456789 123456789 \n",
      "    7     123456789 123456789 |123456789 123456789 123456789 |123456789 123456789     8     \n",
      "123456789 123456789     6     |    7     123456789     8     |    2     123456789 123456789 \n",
      "------------------------------+------------------------------+------------------------------\n",
      "123456789 123456789     2     |    6     123456789     9     |    5     123456789 123456789 \n",
      "    8     123456789 123456789 |    2     123456789     3     |123456789 123456789     9     \n",
      "123456789 123456789     5     |123456789     1     123456789 |    3     123456789 123456789 \n"
     ]
    }
   ],
   "source": [
    "from utils import *\n",
    "\n",
    "def grid_values(grid):\n",
    "    \"\"\"Convert grid string into {<box>: <value>} dict with '123456789' value for empties.\n",
    "\n",
    "    Args:\n",
    "        grid: Sudoku grid in string form, 81 characters long\n",
    "    Returns:\n",
    "        Sudoku grid in dictionary form:\n",
    "        - keys: Box labels, e.g. 'A1'\n",
    "        - values: Value in corresponding box, e.g. '8', or '123456789' if it is empty.\n",
    "    \"\"\"\n",
    "    values = []\n",
    "    all_digits = '123456789'\n",
    "    for c in grid:\n",
    "        if c == '.':\n",
    "            values.append(all_digits)\n",
    "        elif c in all_digits:\n",
    "            values.append(c)\n",
    "    assert len(values) == 81\n",
    "    result = dict(zip(boxes, values))\n",
    "            \n",
    "    return result\n",
    "\n",
    "# Ucomment and run the code below to view your result.\n",
    "# Make sure to **comment** the code below before submitting your code.\n",
    "\n",
    "grid = '..3.2.6..9..3.5..1..18.64....81.29..7.......8..67.82....26.95..8..2.3..9..5.1.3..'\n",
    "output = grid_values(grid)\n",
    "display(output)"
   ]
  },
  {
   "cell_type": "code",
   "execution_count": 6,
   "metadata": {
    "edited": true,
    "gradable": true,
    "grader_id": "8k2agry8m07",
    "udacity_user_query": ""
   },
   "outputs": [
    {
     "name": "stdout",
     "output_type": "stream",
     "text": [
      "Input grid:\n",
      "123456789 123456789     3     |123456789     2     123456789 |    6     123456789 123456789 \n",
      "    9     123456789 123456789 |    3     123456789     5     |123456789 123456789     1     \n",
      "123456789 123456789     1     |    8     123456789     6     |    4     123456789 123456789 \n",
      "------------------------------+------------------------------+------------------------------\n",
      "123456789 123456789     8     |    1     123456789     2     |    9     123456789 123456789 \n",
      "    7     123456789 123456789 |123456789 123456789 123456789 |123456789 123456789     8     \n",
      "123456789 123456789     6     |    7     123456789     8     |    2     123456789 123456789 \n",
      "------------------------------+------------------------------+------------------------------\n",
      "123456789 123456789     2     |    6     123456789     9     |    5     123456789 123456789 \n",
      "    8     123456789 123456789 |    2     123456789     3     |123456789 123456789     9     \n",
      "123456789 123456789     5     |123456789     1     123456789 |    3     123456789 123456789 \n",
      "\n",
      "Output grid:\n",
      "   45    4578    3   |   49     2     147  |   6     5789    57  \n",
      "   9    24678    47  |   3      47     5   |   78    278     1   \n",
      "   25    257     1   |   8      79     6   |   4    23579   2357 \n",
      "---------------------+---------------------+---------------------\n",
      "  345    345     8   |   1     3456    2   |   9    34567  34567 \n",
      "   7    123459   49  |  459   34569    4   |   1    13456    8   \n",
      "  1345  13459    6   |   7     3459    8   |   2     1345   345  \n",
      "---------------------+---------------------+---------------------\n",
      "  134    1347    2   |   6     478     9   |   5     1478    47  \n",
      "   8     1467    47  |   2     457     3   |   17    1467    9   \n",
      "   46    4679    5   |   4      1      47  |   3    24678   2467 \n"
     ]
    }
   ],
   "source": [
    "from utils import *\n",
    "\n",
    "def eliminate(values):\n",
    "    \"\"\"Eliminate values from peers of each box with a single value.\n",
    "\n",
    "    Go through all the boxes, and whenever there is a box with a single value,\n",
    "    eliminate this value from the set of values of all its peers.\n",
    "\n",
    "    Args:\n",
    "        values: Sudoku in dictionary form.\n",
    "    Returns:\n",
    "        Resulting Sudoku in dictionary form after eliminating values.\n",
    "    \"\"\"\n",
    "    solved_values = [box for box in values.keys() if len(values[box]) == 1]\n",
    "    for box in solved_values:\n",
    "        digit = values[box]\n",
    "        for peer in peers[box]:\n",
    "            values[peer] = values[peer].replace(digit, '')\n",
    "    return values\n",
    "\n",
    "# Ucomment and run the code below to view your result.\n",
    "# Make sure to **comment** the code below before submitting your code.\n",
    "from copy import deepcopy\n",
    "\n",
    "grid = {'A1': '123456789', 'A2': '123456789', 'A3': '3', 'A4': '123456789', 'A5': '2', 'A6': '123456789', 'A7': '6', 'A8': '123456789', 'A9': '123456789', 'B1': '9', 'B2': '123456789', 'B3': '123456789', 'B4': '3', 'B5': '123456789', 'B6': '5', 'B7': '123456789', 'B8': '123456789', 'B9': '1', 'C1': '123456789', 'C2': '123456789', 'C3': '1', 'C4': '8', 'C5': '123456789', 'C6': '6', 'C7': '4', 'C8': '123456789', 'C9': '123456789', 'D1': '123456789', 'D2': '123456789', 'D3': '8', 'D4': '1', 'D5': '123456789', 'D6': '2', 'D7': '9', 'D8': '123456789', 'D9': '123456789', 'E1': '7', 'E2': '123456789', 'E3': '123456789', 'E4': '123456789', 'E5': '123456789', 'E6': '123456789', 'E7': '123456789', 'E8': '123456789', 'E9': '8', 'F1': '123456789', 'F2': '123456789', 'F3': '6', 'F4': '7', 'F5': '123456789', 'F6': '8', 'F7': '2', 'F8': '123456789', 'F9': '123456789', 'G1': '123456789', 'G2': '123456789', 'G3': '2', 'G4': '6', 'G5': '123456789', 'G6': '9', 'G7': '5', 'G8': '123456789', 'G9': '123456789', 'H1': '8', 'H2': '123456789', 'H3': '123456789', 'H4': '2', 'H5': '123456789', 'H6': '3', 'H7': '123456789', 'H8': '123456789', 'H9': '9', 'I1': '123456789', 'I2': '123456789', 'I3': '5', 'I4': '123456789', 'I5': '1', 'I6': '123456789', 'I7': '3', 'I8': '123456789', 'I9': '123456789'}\n",
    "trial = eliminate(deepcopy(grid))\n",
    "for i in trial:\n",
    "    trial[i] = ''.join(sorted(trial[i]))\n",
    "\n",
    "print(\"Input grid:\")\n",
    "display(grid)\n",
    "print(\"\\nOutput grid:\")\n",
    "display(trial)"
   ]
  },
  {
   "cell_type": "code",
   "execution_count": null,
   "metadata": {},
   "outputs": [],
   "source": []
  }
 ],
 "metadata": {
  "grader_mode": "",
  "kernelspec": {
   "display_name": "Python 3",
   "language": "python",
   "name": "python3"
  },
  "language_info": {
   "codemirror_mode": {
    "name": "ipython",
    "version": 3
   },
   "file_extension": ".py",
   "mimetype": "text/x-python",
   "name": "python",
   "nbconvert_exporter": "python",
   "pygments_lexer": "ipython3",
   "version": "3.6.3"
  },
  "showGradeBtn": true
 },
 "nbformat": 4,
 "nbformat_minor": 2
}
