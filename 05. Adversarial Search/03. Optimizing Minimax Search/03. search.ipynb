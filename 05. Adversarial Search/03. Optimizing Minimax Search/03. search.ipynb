{
 "cells": [
  {
   "cell_type": "code",
   "execution_count": 1,
   "metadata": {
    "edited": true,
    "gradable": true,
    "grader_id": "n4ik0twd6ac",
    "udacity_user_query": ""
   },
   "outputs": [
    {
     "name": "stdout",
     "output_type": "stream",
     "text": [
      "Expected node count: 30\n",
      "Your node count: 30\n",
      "That's right! Looks like your depth limit is working!\n"
     ]
    }
   ],
   "source": [
    "from minimax import minimax_decision\n",
    "\n",
    "def get_action(gameState, depth_limit):\n",
    "    # TODO: Implement a function that calls minimax_decision\n",
    "    # for each depth from 1...depth_limit (inclusive of both endpoints)\n",
    "    best_move = None\n",
    "    for depth in range(1, depth_limit+1):\n",
    "        best_move = minimax_decision(gameState, depth)\n",
    "    return best_move\n",
    "\n",
    "# Uncomment the code below to pre-test your helper function\n",
    "'''\n",
    "import gamestate as game\n",
    "# Test the depth limit by checking the number of nodes visited\n",
    "# -- recall that minimax visits every node in the search tree,\n",
    "# so if we search depth one on an empty board then minimax should\n",
    "# visit the sum of each sub-tree\n",
    "depth_limit = 2\n",
    "expected_node_count = 30\n",
    "rootNode = game.GameState()\n",
    "get_action(rootNode, depth_limit)\n",
    "\n",
    "print(\"Expected node count: {}\".format(expected_node_count))\n",
    "print(\"Your node count: {}\".format(game.call_counter))\n",
    "\n",
    "if game.call_counter == expected_node_count:\n",
    "    print(\"That's right! Looks like your depth limit is working!\")\n",
    "else:\n",
    "    print(\"Uh oh...looks like there may be a problem.\")\n",
    "'''"
   ]
  },
  {
   "cell_type": "code",
   "execution_count": null,
   "metadata": {},
   "outputs": [],
   "source": []
  }
 ],
 "metadata": {
  "grader_mode": "",
  "kernelspec": {
   "display_name": "Python 3",
   "language": "python",
   "name": "python3"
  },
  "language_info": {
   "codemirror_mode": {
    "name": "ipython",
    "version": 3
   },
   "file_extension": ".py",
   "mimetype": "text/x-python",
   "name": "python",
   "nbconvert_exporter": "python",
   "pygments_lexer": "ipython3",
   "version": "3.6.3"
  },
  "showGradeBtn": true
 },
 "nbformat": 4,
 "nbformat_minor": 2
}
