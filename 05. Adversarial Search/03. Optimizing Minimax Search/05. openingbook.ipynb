{
 "cells": [
  {
   "cell_type": "code",
   "execution_count": 1,
   "metadata": {
    "edited": true,
    "gradable": true,
    "grader_id": "pl5ptpbpnl",
    "udacity_user_query": ""
   },
   "outputs": [
    {
     "name": "stdout",
     "output_type": "stream",
     "text": [
      "Looks like your book worked!\n",
      "{(0, 0, 1, 0, 0, 1, (1, 0), None, 1): (0, 1), (0, 0, 0, 0, 0, 1, None, None, 0): (1, 0), (0, 1, 0, 0, 0, 1, (0, 1), None, 1): (2, 0), (0, 0, 0, 1, 0, 1, (1, 1), None, 1): (1, 0), (0, 0, 0, 0, 1, 1, (2, 0), None, 1): (0, 0)}\n"
     ]
    }
   ],
   "source": [
    "import random\n",
    "\n",
    "from gamestate import GameState\n",
    "\n",
    "NUM_ROUNDS = 10\n",
    "\n",
    "def build_table(num_rounds=NUM_ROUNDS):\n",
    "    # You should run no more than `num_rounds` simulations -- the\n",
    "    # goal of this quiz is to understand one possible way to develop\n",
    "    # an opening book; not to develop a good one\n",
    "    \n",
    "    # NOTE: the GameState object is not hashable, and the python3\n",
    "    #       runtime includes security features that make object\n",
    "    #       hashes non-portable. There is a new attribute on\n",
    "    #       GameState objects in this quiz called `hashable` that\n",
    "    #       can be used as a dictionary key\n",
    "    \n",
    "    # TODO: return a table {k:v} where each k is a game state\n",
    "    #       and each v is the best action to take in that state\n",
    "    from collections import defaultdict, Counter\n",
    "    book = defaultdict(Counter)\n",
    "    for _ in range(num_rounds):\n",
    "        state = GameState()\n",
    "        build_tree(state, book)\n",
    "    return {k: max(v, key=v.get) for k, v in book.items()}\n",
    "\n",
    "def build_tree(state, book, depth=2):\n",
    "    if depth <= 0 or state.terminal_test():\n",
    "        return -simulate(state)\n",
    "    action = random.choice(state.actions())\n",
    "    reward = build_tree(state.result(action), book, depth - 1)\n",
    "    book[state.hashable][action] += reward\n",
    "    return -reward\n",
    "\n",
    "def simulate(state):\n",
    "    player_id = state._parity\n",
    "    while not state.terminal_test():\n",
    "        state = state.result(random.choice(state.actions()))\n",
    "    return -1 if state.utility(player_id) < 0 else 1\n",
    "# Uncomment the code below to pre-test your helper function\n",
    "\n",
    "book = build_table(10)\n",
    "\n",
    "assert len(book) > 0, \"Your opening book is empty\"\n",
    "assert all(isinstance(k, tuple) for k in book), \\\n",
    "    \"All the keys should be `hashable`\"\n",
    "assert all(isinstance(v, tuple) and len(v) == 2 for v in book.values()), \\\n",
    "    \"All the values should be tuples of (x, y) actions\"\n",
    "print(\"Looks like your book worked!\")\n",
    "print(book)\n"
   ]
  },
  {
   "cell_type": "code",
   "execution_count": null,
   "metadata": {
    "grader_id": "5x9iezsbbtm"
   },
   "outputs": [],
   "source": []
  }
 ],
 "metadata": {
  "grader_mode": "",
  "kernelspec": {
   "display_name": "Python 3",
   "language": "python",
   "name": "python3"
  },
  "language_info": {
   "codemirror_mode": {
    "name": "ipython",
    "version": 3
   },
   "file_extension": ".py",
   "mimetype": "text/x-python",
   "name": "python",
   "nbconvert_exporter": "python",
   "pygments_lexer": "ipython3",
   "version": "3.6.3"
  },
  "showGradeBtn": true
 },
 "nbformat": 4,
 "nbformat_minor": 2
}
