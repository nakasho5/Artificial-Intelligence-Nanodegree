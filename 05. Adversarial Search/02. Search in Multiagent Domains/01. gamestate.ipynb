{
 "cells": [
  {
   "cell_type": "code",
   "execution_count": 2,
   "metadata": {
    "edited": true,
    "gradable": true,
    "grader_id": "n05ahm1zyr",
    "udacity_user_query": ""
   },
   "outputs": [],
   "source": [
    "# TODO: implement the __init__ class below by adding properties\n",
    "# that meet the three requirements specified\n",
    "xlim, ylim = 3, 2\n",
    "\n",
    "class GameState:\n",
    "    \n",
    "    def __init__(self):\n",
    "        \"\"\"The GameState class constructor performs required\n",
    "        initializations when an instance is created. The class\n",
    "        should:\n",
    "        \n",
    "        1) Keep track of which cells are open/closed\n",
    "        2) Identify which player has initiative\n",
    "        3) Record the current location of each player\n",
    "        \n",
    "        Parameters\n",
    "        ----------\n",
    "        self:\n",
    "            instance methods automatically take \"self\" as an\n",
    "            argument in python\n",
    "        \n",
    "        Returns\n",
    "        -------\n",
    "        None\n",
    "        \"\"\"\n",
    "        # You can define attributes like this:\n",
    "        # self.value = 73  # an arbitrary number\n",
    "        # reassign it to a string (variable type is dynamic in Python)\n",
    "        # self.value = \"some string\"\n",
    "        # self.foo = []  # create an empty list\n",
    "        #raise NotImplementedError\n",
    "        self._board = [[0] * ylim for _ in range(xlim)]\n",
    "        self._board[-1][-1] = 1 # block lower-right corner\n",
    "        self._parity = 0\n",
    "        self._player_locations = [None, None]\n",
    "\n",
    "if __name__ == \"__main__\":\n",
    "    # This code is only executed if \"gameagent.py\" is the run\n",
    "    # as a script (i.e., it is not run if \"gameagent.py\" is\n",
    "    # imported as a module)\n",
    "    emptyState = GameState()  # create an instance of the object"
   ]
  },
  {
   "cell_type": "code",
   "execution_count": null,
   "metadata": {
    "grader_id": "fpg86vxlq5d"
   },
   "outputs": [],
   "source": []
  }
 ],
 "metadata": {
  "grader_mode": "",
  "kernelspec": {
   "display_name": "Python 3",
   "language": "python",
   "name": "python3"
  },
  "language_info": {
   "codemirror_mode": {
    "name": "ipython",
    "version": 3
   },
   "file_extension": ".py",
   "mimetype": "text/x-python",
   "name": "python",
   "nbconvert_exporter": "python",
   "pygments_lexer": "ipython3",
   "version": "3.6.3"
  },
  "showGradeBtn": true
 },
 "nbformat": 4,
 "nbformat_minor": 2
}
