{
 "cells": [
  {
   "cell_type": "code",
   "execution_count": 1,
   "metadata": {
    "edited": true,
    "gradable": true,
    "grader_id": "6mvhqyec33",
    "udacity_user_query": ""
   },
   "outputs": [
    {
     "name": "stdout",
     "output_type": "stream",
     "text": [
      "Looks like everything works!\n"
     ]
    }
   ],
   "source": [
    "def min_value(gameState):\n",
    "    \"\"\" Return the game state utility if the game is over,\n",
    "    otherwise return the minimum value over all legal successors\n",
    "    \n",
    "    # HINT: Assume that the utility is ALWAYS calculated for\n",
    "            player 1, NOT for the \"active\" player\n",
    "    \"\"\"\n",
    "    # TODO: finish this function!\n",
    "    if gameState.terminal_test():\n",
    "        return gameState.utility(0)\n",
    "    v = float(\"inf\")\n",
    "    for a in gameState.actions():\n",
    "        v = min(v, max_value(gameState.result(a)))\n",
    "    return v\n",
    "\n",
    "\n",
    "def max_value(gameState):\n",
    "    \"\"\" Return the game state utility if the game is over,\n",
    "    otherwise return the maximum value over all legal successors\n",
    "    \n",
    "    # HINT: Assume that the utility is ALWAYS calculated for\n",
    "            player 1, NOT for the \"active\" player\n",
    "    \"\"\"\n",
    "    # TODO: finish this function!\n",
    "    if gameState.terminal_test():\n",
    "        return gameState.utility(0)\n",
    "    v = float(\"-inf\")\n",
    "    for a in gameState.actions():\n",
    "        v = max(v, min_value(gameState.result(a)))\n",
    "    return v\n",
    "\n",
    "# Uncomment the code below to pre-test your helper function\n",
    "\n",
    "from gamestate import *\n",
    "g = GameState()\n",
    "inf = float(\"inf\")\n",
    "actions = [((0, 0), inf), ((1, 0), -inf), ((2, 0), inf), ((0, 1), inf), ((1, 1), -inf)]\n",
    "\n",
    "if all(min_value(g.result(a)) == ev for a, ev in actions):\n",
    "    print(\"Looks like everything works!\")\n",
    "else:\n",
    "    print(\"Uh oh! Not all the scores matched.\")\n"
   ]
  },
  {
   "cell_type": "code",
   "execution_count": null,
   "metadata": {
    "grader_id": "mc1da592wz"
   },
   "outputs": [],
   "source": []
  }
 ],
 "metadata": {
  "grader_mode": "",
  "kernelspec": {
   "display_name": "Python 3",
   "language": "python",
   "name": "python3"
  },
  "language_info": {
   "codemirror_mode": {
    "name": "ipython",
    "version": 3
   },
   "file_extension": ".py",
   "mimetype": "text/x-python",
   "name": "python",
   "nbconvert_exporter": "python",
   "pygments_lexer": "ipython3",
   "version": "3.6.3"
  },
  "showGradeBtn": true
 },
 "nbformat": 4,
 "nbformat_minor": 2
}
