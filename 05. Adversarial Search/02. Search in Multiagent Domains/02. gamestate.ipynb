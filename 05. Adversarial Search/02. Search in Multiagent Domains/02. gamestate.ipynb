{
 "cells": [
  {
   "cell_type": "code",
   "execution_count": 4,
   "metadata": {
    "edited": true,
    "gradable": true,
    "grader_id": "7xzivv4v1j7",
    "udacity_user_query": ""
   },
   "outputs": [],
   "source": [
    "from copy import deepcopy\n",
    "\n",
    "xlim, ylim = 3, 2  # board dimensions\n",
    "\n",
    "# The eight movement directions possible for a chess queen\n",
    "RAYS = [(1, 0), (1, -1), (0, -1), (-1, -1),\n",
    "        (-1, 0), (-1, 1), (0, 1), (1, 1)]\n",
    "\n",
    "\n",
    "\n",
    "class GameState:\n",
    "    \"\"\"\n",
    "    Attributes\n",
    "    ----------\n",
    "    TODO: Copy in your implementation from the previous quiz\n",
    "    \"\"\"\n",
    "    def __init__(self):\n",
    "        # TODO: Copy in your implementation from the previous quiz\n",
    "        self._board = [[0] * ylim for _ in range(xlim)]\n",
    "        self._board[-1][-1] = 1  # block lower-right corner\n",
    "        self._parity = 0\n",
    "        self._player_locations = [None, None]\n",
    "        \n",
    "    def actions(self):\n",
    "        \"\"\" Return a list of legal actions for the active player \n",
    "        \n",
    "        You are free to choose any convention to represent actions,\n",
    "        but one option is to represent actions by the (row, column)\n",
    "        of the endpoint for the token. For example, if your token is\n",
    "        in (0, 0), and your opponent is in (1, 0) then the legal\n",
    "        actions could be encoded as (0, 1) and (0, 2).\n",
    "        \"\"\"\n",
    "        # TODO: Finish this function!\n",
    "        return self.liberties(self._player_locations[self._parity])\n",
    "    \n",
    "    def player(self):\n",
    "        \"\"\" Return the id of the active player \n",
    "        \n",
    "        Hint: return 0 for the first player, and 1 for the second player\n",
    "        \"\"\"\n",
    "        # TODO: Finish this function!\n",
    "        return self._parity\n",
    "    \n",
    "    def result(self, action):\n",
    "        \"\"\" Return a new state that results from applying the given\n",
    "        action in the current state\n",
    "        \n",
    "        Hint: Check out the deepcopy module--do NOT modify the\n",
    "        objects internal state in place\n",
    "        \"\"\"\n",
    "        # TODO: Finish this function!\n",
    "        assert action in self.actions(), \"Attempted forecast of illegal move\"\n",
    "        newBoard = deepcopy(self)\n",
    "        newBoard._board[action[0]][action[1]] = 1\n",
    "        newBoard._player_locations[self._parity] = action\n",
    "        newBoard._parity ^= 1\n",
    "        return newBoard\n",
    "    \n",
    "    def terminal_test(self):\n",
    "        \"\"\" return True if the current state is terminal,\n",
    "        and False otherwise\n",
    "        \n",
    "        Hint: an Isolation state is terminal if _either_\n",
    "        player has no remaining liberties (even if the\n",
    "        player is not active in the current state)\n",
    "        \"\"\"\n",
    "        # TODO: Finish this function!\n",
    "        return (not self._has_liberties(self._parity)\n",
    "               or not self._has_liberties(1 - self._parity))\n",
    "    \n",
    "    def liberties(self, loc):\n",
    "        \"\"\" Return a list of all open cells in the\n",
    "        neighborhood of the specified location.  The list \n",
    "        should include all open spaces in a straight line\n",
    "        along any row, column or diagonal from the current\n",
    "        position. (Tokens CANNOT move through obstacles\n",
    "        or blocked squares in queens Isolation.)\n",
    "        \n",
    "        Note: if loc is None, then return all empty cells\n",
    "        on the board\n",
    "        \"\"\"\n",
    "        # TODO: Finish this function!\n",
    "        if loc is None: return self._get_blank_spaces()\n",
    "        moves = []\n",
    "        for dx, dy in RAYS: # check each movement direction\n",
    "            _x, _y = loc\n",
    "            while 0 <= _x + dx < xlim and 0 <= _y + dy < ylim:\n",
    "                _x, _y = _x + dx, _y + dy\n",
    "                if self._board[_x][_y]: # stop at any blocked cell\n",
    "                    break\n",
    "                moves.append((_x, _y))\n",
    "        return moves\n",
    "    \n",
    "    def _has_liberties(self, player_id):\n",
    "        \"\"\" Check to see if the specified player has any liberties \"\"\"\n",
    "        return any(self.liberties(self._player_locations[player_id]))\n",
    "    \n",
    "    def _get_blank_spaces(self):\n",
    "        \"\"\" Return a list of blank spaces on the board. \"\"\"\n",
    "        return [(x, y) for y in range(ylim) for x in range(xlim)\n",
    "                if self._board[x][y] == 0]"
   ]
  },
  {
   "cell_type": "code",
   "execution_count": null,
   "metadata": {
    "edited": false,
    "gradable": true,
    "grader_id": "dvbmjqquxtq",
    "udacity_user_query": ""
   },
   "outputs": [],
   "source": [
    "# No coding is Requested for this cell\n",
    "# Cell is reserved for test only"
   ]
  },
  {
   "cell_type": "code",
   "execution_count": null,
   "metadata": {
    "edited": false,
    "gradable": true,
    "grader_id": "3hhs21a7bbp",
    "udacity_user_query": ""
   },
   "outputs": [],
   "source": [
    "# No coding is Requested for this cell\n",
    "# Cell is reserved for test only"
   ]
  },
  {
   "cell_type": "code",
   "execution_count": null,
   "metadata": {
    "edited": false,
    "gradable": true,
    "grader_id": "iq982k7isi",
    "udacity_user_query": ""
   },
   "outputs": [],
   "source": [
    "# No coding is Requested for this cell\n",
    "# Cell is reserved for test only"
   ]
  },
  {
   "cell_type": "code",
   "execution_count": null,
   "metadata": {
    "edited": false,
    "gradable": true,
    "grader_id": "uhzmezmkck",
    "udacity_user_query": ""
   },
   "outputs": [],
   "source": [
    "# No coding is Requested for this cell\n",
    "# Cell is reserved for test only"
   ]
  },
  {
   "cell_type": "code",
   "execution_count": null,
   "metadata": {
    "edited": false,
    "gradable": true,
    "grader_id": "a8lptba0hg7",
    "udacity_user_query": ""
   },
   "outputs": [],
   "source": [
    "# No coding is Requested for this cell\n",
    "# Cell is reserved for test only"
   ]
  }
 ],
 "metadata": {
  "grader_mode": "",
  "kernelspec": {
   "display_name": "Python 3",
   "language": "python",
   "name": "python3"
  },
  "language_info": {
   "codemirror_mode": {
    "name": "ipython",
    "version": 3
   },
   "file_extension": ".py",
   "mimetype": "text/x-python",
   "name": "python",
   "nbconvert_exporter": "python",
   "pygments_lexer": "ipython3",
   "version": "3.6.3"
  },
  "showGradeBtn": true
 },
 "nbformat": 4,
 "nbformat_minor": 2
}
